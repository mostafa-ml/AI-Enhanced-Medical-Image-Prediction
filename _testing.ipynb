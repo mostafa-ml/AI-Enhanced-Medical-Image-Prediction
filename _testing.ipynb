{
 "cells": [
  {
   "cell_type": "markdown",
   "id": "236ab10d",
   "metadata": {},
   "source": [
    "# Convert TensorFlow models to ONNX"
   ]
  },
  {
   "cell_type": "code",
   "execution_count": null,
   "id": "201eb3d7",
   "metadata": {},
   "outputs": [],
   "source": [
    "import numpy as np\n",
    "from PIL import Image\n",
    "import tensorflow as tf\n",
    "import tf2onnx"
   ]
  },
  {
   "cell_type": "code",
   "execution_count": null,
   "id": "18c55866",
   "metadata": {},
   "outputs": [],
   "source": [
    "tf_model = tf.keras.models.load_model(r\"\")"
   ]
  },
  {
   "cell_type": "code",
   "execution_count": null,
   "id": "d35550d5",
   "metadata": {},
   "outputs": [],
   "source": [
    "IMG_SIZE = 256\n",
    "\n",
    "spec = (\n",
    "    tf.TensorSpec(\n",
    "        shape=[None, IMG_SIZE, IMG_SIZE, 3],\n",
    "        dtype=np.float32,\n",
    "        name='input'\n",
    "    ),\n",
    ")\n",
    "\n",
    "tf2onnx.convert.from_keras(\n",
    "    tf_model,\n",
    "    input_signature=spec,\n",
    "    output_path=r'models/colon_diseases.onnx'\n",
    ")"
   ]
  },
  {
   "cell_type": "markdown",
   "id": "bc318d60",
   "metadata": {},
   "source": [
    "# Test models through the API"
   ]
  },
  {
   "cell_type": "code",
   "execution_count": null,
   "id": "35831e10",
   "metadata": {},
   "outputs": [],
   "source": [
    "# To send data(images) to the models and get the predictions back\n",
    "\n",
    "import requests\n",
    "\n",
    "url = \"http://127.0.0.1:8000/predict/dental/\"    # specify the endpoint\n",
    "\n",
    "files = {\"file\": open(\"test images/dental/dental1.jpg\", \"rb\")}  # specify the img\n",
    "\n",
    "response = requests.post(url, files=files)\n",
    "\n",
    "print(response.json())"
   ]
  },
  {
   "cell_type": "markdown",
   "id": "af293f21",
   "metadata": {},
   "source": [
    "In the case of <span style=\"color: red\">skin-cancer OR kidney-stone</span>, the predicted img (is binary data, and APIs can't transfer binary data, only ASCII data)\n",
    "\n",
    "so I encoded the img by base64 (base64 is a binary-to-text encoding scheme) before transfering it through the api,\n",
    "\n",
    "So u need to decode the imag back to binary data"
   ]
  },
  {
   "cell_type": "code",
   "execution_count": null,
   "id": "81edb367",
   "metadata": {},
   "outputs": [],
   "source": [
    "import base64    # for encodeing-decoding\n",
    "import io\n",
    "from PIL import Image\n",
    "\n",
    "detected_image = response.json()['detected_image']\n",
    "detected_image = base64.b64decode(detected_image) # decode the img\n",
    "detected_image = io.BytesIO(detected_image)\n",
    "\n",
    "detected_image = Image.open(detected_image)\n",
    "\n",
    "detected_image"
   ]
  },
  {
   "cell_type": "code",
   "execution_count": null,
   "id": "a631a1df",
   "metadata": {},
   "outputs": [],
   "source": []
  },
  {
   "cell_type": "code",
   "execution_count": null,
   "id": "78dd31f2",
   "metadata": {},
   "outputs": [],
   "source": []
  }
 ],
 "metadata": {
  "kernelspec": {
   "display_name": "Python 3",
   "language": "python",
   "name": "python3"
  },
  "language_info": {
   "codemirror_mode": {
    "name": "ipython",
    "version": 3
   },
   "file_extension": ".py",
   "mimetype": "text/x-python",
   "name": "python",
   "nbconvert_exporter": "python",
   "pygments_lexer": "ipython3",
   "version": "3.12.0"
  }
 },
 "nbformat": 4,
 "nbformat_minor": 5
}
